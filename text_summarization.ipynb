{
  "nbformat": 4,
  "nbformat_minor": 0,
  "metadata": {
    "colab": {
      "name": "text_summarization.ipynb",
      "provenance": [],
      "collapsed_sections": [],
      "authorship_tag": "ABX9TyM/HJ7QPqU1ZNvwCnr7NhrN",
      "include_colab_link": true
    },
    "kernelspec": {
      "name": "python3",
      "display_name": "Python 3"
    },
    "language_info": {
      "name": "python"
    }
  },
  "cells": [
    {
      "cell_type": "markdown",
      "metadata": {
        "id": "view-in-github",
        "colab_type": "text"
      },
      "source": [
        "<a href=\"https://colab.research.google.com/github/hrushikeshsahu19/Text-summarization/blob/main/text_summarization.ipynb\" target=\"_parent\"><img src=\"https://colab.research.google.com/assets/colab-badge.svg\" alt=\"Open In Colab\"/></a>"
      ]
    },
    {
      "cell_type": "code",
      "metadata": {
        "id": "aCLlB2x4UEJW",
        "colab": {
          "base_uri": "https://localhost:8080/"
        },
        "outputId": "47a9fde2-b0e6-457a-e6d5-27e575972bce"
      },
      "source": [
        "!pip install -U spacy"
      ],
      "execution_count": null,
      "outputs": [
        {
          "output_type": "stream",
          "name": "stdout",
          "text": [
            "Requirement already satisfied: spacy in /usr/local/lib/python3.7/dist-packages (3.2.1)\n",
            "Requirement already satisfied: cymem<2.1.0,>=2.0.2 in /usr/local/lib/python3.7/dist-packages (from spacy) (2.0.6)\n",
            "Requirement already satisfied: preshed<3.1.0,>=3.0.2 in /usr/local/lib/python3.7/dist-packages (from spacy) (3.0.6)\n",
            "Requirement already satisfied: packaging>=20.0 in /usr/local/lib/python3.7/dist-packages (from spacy) (21.3)\n",
            "Requirement already satisfied: jinja2 in /usr/local/lib/python3.7/dist-packages (from spacy) (2.11.3)\n",
            "Requirement already satisfied: murmurhash<1.1.0,>=0.28.0 in /usr/local/lib/python3.7/dist-packages (from spacy) (1.0.6)\n",
            "Requirement already satisfied: numpy>=1.15.0 in /usr/local/lib/python3.7/dist-packages (from spacy) (1.19.5)\n",
            "Requirement already satisfied: pathy>=0.3.5 in /usr/local/lib/python3.7/dist-packages (from spacy) (0.6.1)\n",
            "Requirement already satisfied: spacy-loggers<2.0.0,>=1.0.0 in /usr/local/lib/python3.7/dist-packages (from spacy) (1.0.1)\n",
            "Requirement already satisfied: spacy-legacy<3.1.0,>=3.0.8 in /usr/local/lib/python3.7/dist-packages (from spacy) (3.0.8)\n",
            "Requirement already satisfied: srsly<3.0.0,>=2.4.1 in /usr/local/lib/python3.7/dist-packages (from spacy) (2.4.2)\n",
            "Requirement already satisfied: langcodes<4.0.0,>=3.2.0 in /usr/local/lib/python3.7/dist-packages (from spacy) (3.3.0)\n",
            "Requirement already satisfied: typing-extensions<4.0.0.0,>=3.7.4 in /usr/local/lib/python3.7/dist-packages (from spacy) (3.10.0.2)\n",
            "Requirement already satisfied: requests<3.0.0,>=2.13.0 in /usr/local/lib/python3.7/dist-packages (from spacy) (2.23.0)\n",
            "Requirement already satisfied: typer<0.5.0,>=0.3.0 in /usr/local/lib/python3.7/dist-packages (from spacy) (0.4.0)\n",
            "Requirement already satisfied: pydantic!=1.8,!=1.8.1,<1.9.0,>=1.7.4 in /usr/local/lib/python3.7/dist-packages (from spacy) (1.8.2)\n",
            "Requirement already satisfied: tqdm<5.0.0,>=4.38.0 in /usr/local/lib/python3.7/dist-packages (from spacy) (4.62.3)\n",
            "Requirement already satisfied: blis<0.8.0,>=0.4.0 in /usr/local/lib/python3.7/dist-packages (from spacy) (0.4.1)\n",
            "Requirement already satisfied: wasabi<1.1.0,>=0.8.1 in /usr/local/lib/python3.7/dist-packages (from spacy) (0.8.2)\n",
            "Requirement already satisfied: setuptools in /usr/local/lib/python3.7/dist-packages (from spacy) (57.4.0)\n",
            "Requirement already satisfied: catalogue<2.1.0,>=2.0.6 in /usr/local/lib/python3.7/dist-packages (from spacy) (2.0.6)\n",
            "Requirement already satisfied: thinc<8.1.0,>=8.0.12 in /usr/local/lib/python3.7/dist-packages (from spacy) (8.0.13)\n",
            "Requirement already satisfied: zipp>=0.5 in /usr/local/lib/python3.7/dist-packages (from catalogue<2.1.0,>=2.0.6->spacy) (3.6.0)\n",
            "Requirement already satisfied: pyparsing!=3.0.5,>=2.0.2 in /usr/local/lib/python3.7/dist-packages (from packaging>=20.0->spacy) (3.0.6)\n",
            "Requirement already satisfied: smart-open<6.0.0,>=5.0.0 in /usr/local/lib/python3.7/dist-packages (from pathy>=0.3.5->spacy) (5.2.1)\n",
            "Requirement already satisfied: certifi>=2017.4.17 in /usr/local/lib/python3.7/dist-packages (from requests<3.0.0,>=2.13.0->spacy) (2021.10.8)\n",
            "Requirement already satisfied: idna<3,>=2.5 in /usr/local/lib/python3.7/dist-packages (from requests<3.0.0,>=2.13.0->spacy) (2.10)\n",
            "Requirement already satisfied: chardet<4,>=3.0.2 in /usr/local/lib/python3.7/dist-packages (from requests<3.0.0,>=2.13.0->spacy) (3.0.4)\n",
            "Requirement already satisfied: urllib3!=1.25.0,!=1.25.1,<1.26,>=1.21.1 in /usr/local/lib/python3.7/dist-packages (from requests<3.0.0,>=2.13.0->spacy) (1.24.3)\n",
            "Requirement already satisfied: click<9.0.0,>=7.1.1 in /usr/local/lib/python3.7/dist-packages (from typer<0.5.0,>=0.3.0->spacy) (7.1.2)\n",
            "Requirement already satisfied: MarkupSafe>=0.23 in /usr/local/lib/python3.7/dist-packages (from jinja2->spacy) (2.0.1)\n"
          ]
        }
      ]
    },
    {
      "cell_type": "code",
      "source": [
        "text=\"\"\"\n",
        "Paragraphs are the building blocks of papers. Many students define paragraphs in terms of length: a paragraph is a group of at least five sentences, \n",
        "a paragraph is half a page long, etc. In reality, though, the unity and coherence of ideas among sentences is what constitutes a paragraph. \n",
        "A paragraph is defined as “a group of sentences or a single sentence that forms a unit” (Lunsford and Connors 116). \n",
        "Length and appearance do not determine whether a section in a paper is a paragraph. \n",
        "For instance, in some styles of writing, particularly journalistic styles, a paragraph can be just one sentence long. \n",
        "Ultimately, a paragraph is a sentence or group of sentences that support one main idea. In this handout,\n",
        "we will refer to this as the “controlling idea,” because it controls what happens in the rest of the paragraph.\n",
        "\n",
        "Continue the pattern of giving examples and explaining them until all points/examples that the writer deems necessary have been made and explained.\n",
        " NONE of your examples should be left unexplained. \n",
        " You might be able to explain the relationship between the example and the topic sentence in the same sentence which introduced the example. More often, however, you will need to explain that relationship in a separate sentence.\n",
        " \n",
        "Paragraph development begins with the formulation of the controlling idea. This idea directs the paragraph’s development. \n",
        "Often, the controlling idea of a paragraph will appear in the form of a topic sentence. In some cases, you may need more than one sentence to express a paragraph’s controlling idea.\n",
        " \"\"\""
      ],
      "metadata": {
        "id": "xK9s3SYdnD4D"
      },
      "execution_count": null,
      "outputs": []
    },
    {
      "cell_type": "code",
      "source": [
        "import spacy\n",
        "from spacy.lang.en.stop_words import STOP_WORDS\n",
        "from string import punctuation"
      ],
      "metadata": {
        "id": "Jssvh6JBnD7T"
      },
      "execution_count": null,
      "outputs": []
    },
    {
      "cell_type": "code",
      "source": [
        "stopwords=list(STOP_WORDS)"
      ],
      "metadata": {
        "id": "E6bTwaONnD-Y"
      },
      "execution_count": null,
      "outputs": []
    },
    {
      "cell_type": "code",
      "source": [
        "!python -m spacy download en_core_web_sm\n",
        "nlp=spacy.load(\"en_core_web_sm\")"
      ],
      "metadata": {
        "colab": {
          "base_uri": "https://localhost:8080/"
        },
        "id": "tPnV-3ejnEBS",
        "outputId": "ba8122c4-7614-40f8-b367-dff391afe26c"
      },
      "execution_count": null,
      "outputs": [
        {
          "output_type": "stream",
          "name": "stdout",
          "text": [
            "Collecting en-core-web-sm==3.2.0\n",
            "  Downloading https://github.com/explosion/spacy-models/releases/download/en_core_web_sm-3.2.0/en_core_web_sm-3.2.0-py3-none-any.whl (13.9 MB)\n",
            "\u001b[K     |████████████████████████████████| 13.9 MB 19.4 MB/s \n",
            "\u001b[?25hRequirement already satisfied: spacy<3.3.0,>=3.2.0 in /usr/local/lib/python3.7/dist-packages (from en-core-web-sm==3.2.0) (3.2.1)\n",
            "Requirement already satisfied: spacy-loggers<2.0.0,>=1.0.0 in /usr/local/lib/python3.7/dist-packages (from spacy<3.3.0,>=3.2.0->en-core-web-sm==3.2.0) (1.0.1)\n",
            "Requirement already satisfied: srsly<3.0.0,>=2.4.1 in /usr/local/lib/python3.7/dist-packages (from spacy<3.3.0,>=3.2.0->en-core-web-sm==3.2.0) (2.4.2)\n",
            "Requirement already satisfied: numpy>=1.15.0 in /usr/local/lib/python3.7/dist-packages (from spacy<3.3.0,>=3.2.0->en-core-web-sm==3.2.0) (1.19.5)\n",
            "Requirement already satisfied: typing-extensions<4.0.0.0,>=3.7.4 in /usr/local/lib/python3.7/dist-packages (from spacy<3.3.0,>=3.2.0->en-core-web-sm==3.2.0) (3.10.0.2)\n",
            "Requirement already satisfied: spacy-legacy<3.1.0,>=3.0.8 in /usr/local/lib/python3.7/dist-packages (from spacy<3.3.0,>=3.2.0->en-core-web-sm==3.2.0) (3.0.8)\n",
            "Requirement already satisfied: pathy>=0.3.5 in /usr/local/lib/python3.7/dist-packages (from spacy<3.3.0,>=3.2.0->en-core-web-sm==3.2.0) (0.6.1)\n",
            "Requirement already satisfied: preshed<3.1.0,>=3.0.2 in /usr/local/lib/python3.7/dist-packages (from spacy<3.3.0,>=3.2.0->en-core-web-sm==3.2.0) (3.0.6)\n",
            "Requirement already satisfied: jinja2 in /usr/local/lib/python3.7/dist-packages (from spacy<3.3.0,>=3.2.0->en-core-web-sm==3.2.0) (2.11.3)\n",
            "Requirement already satisfied: tqdm<5.0.0,>=4.38.0 in /usr/local/lib/python3.7/dist-packages (from spacy<3.3.0,>=3.2.0->en-core-web-sm==3.2.0) (4.62.3)\n",
            "Requirement already satisfied: requests<3.0.0,>=2.13.0 in /usr/local/lib/python3.7/dist-packages (from spacy<3.3.0,>=3.2.0->en-core-web-sm==3.2.0) (2.23.0)\n",
            "Requirement already satisfied: murmurhash<1.1.0,>=0.28.0 in /usr/local/lib/python3.7/dist-packages (from spacy<3.3.0,>=3.2.0->en-core-web-sm==3.2.0) (1.0.6)\n",
            "Requirement already satisfied: wasabi<1.1.0,>=0.8.1 in /usr/local/lib/python3.7/dist-packages (from spacy<3.3.0,>=3.2.0->en-core-web-sm==3.2.0) (0.8.2)\n",
            "Requirement already satisfied: catalogue<2.1.0,>=2.0.6 in /usr/local/lib/python3.7/dist-packages (from spacy<3.3.0,>=3.2.0->en-core-web-sm==3.2.0) (2.0.6)\n",
            "Requirement already satisfied: packaging>=20.0 in /usr/local/lib/python3.7/dist-packages (from spacy<3.3.0,>=3.2.0->en-core-web-sm==3.2.0) (21.3)\n",
            "Requirement already satisfied: blis<0.8.0,>=0.4.0 in /usr/local/lib/python3.7/dist-packages (from spacy<3.3.0,>=3.2.0->en-core-web-sm==3.2.0) (0.4.1)\n",
            "Requirement already satisfied: pydantic!=1.8,!=1.8.1,<1.9.0,>=1.7.4 in /usr/local/lib/python3.7/dist-packages (from spacy<3.3.0,>=3.2.0->en-core-web-sm==3.2.0) (1.8.2)\n",
            "Requirement already satisfied: langcodes<4.0.0,>=3.2.0 in /usr/local/lib/python3.7/dist-packages (from spacy<3.3.0,>=3.2.0->en-core-web-sm==3.2.0) (3.3.0)\n",
            "Requirement already satisfied: cymem<2.1.0,>=2.0.2 in /usr/local/lib/python3.7/dist-packages (from spacy<3.3.0,>=3.2.0->en-core-web-sm==3.2.0) (2.0.6)\n",
            "Requirement already satisfied: thinc<8.1.0,>=8.0.12 in /usr/local/lib/python3.7/dist-packages (from spacy<3.3.0,>=3.2.0->en-core-web-sm==3.2.0) (8.0.13)\n",
            "Requirement already satisfied: typer<0.5.0,>=0.3.0 in /usr/local/lib/python3.7/dist-packages (from spacy<3.3.0,>=3.2.0->en-core-web-sm==3.2.0) (0.4.0)\n",
            "Requirement already satisfied: setuptools in /usr/local/lib/python3.7/dist-packages (from spacy<3.3.0,>=3.2.0->en-core-web-sm==3.2.0) (57.4.0)\n",
            "Requirement already satisfied: zipp>=0.5 in /usr/local/lib/python3.7/dist-packages (from catalogue<2.1.0,>=2.0.6->spacy<3.3.0,>=3.2.0->en-core-web-sm==3.2.0) (3.6.0)\n",
            "Requirement already satisfied: pyparsing!=3.0.5,>=2.0.2 in /usr/local/lib/python3.7/dist-packages (from packaging>=20.0->spacy<3.3.0,>=3.2.0->en-core-web-sm==3.2.0) (3.0.6)\n",
            "Requirement already satisfied: smart-open<6.0.0,>=5.0.0 in /usr/local/lib/python3.7/dist-packages (from pathy>=0.3.5->spacy<3.3.0,>=3.2.0->en-core-web-sm==3.2.0) (5.2.1)\n",
            "Requirement already satisfied: idna<3,>=2.5 in /usr/local/lib/python3.7/dist-packages (from requests<3.0.0,>=2.13.0->spacy<3.3.0,>=3.2.0->en-core-web-sm==3.2.0) (2.10)\n",
            "Requirement already satisfied: urllib3!=1.25.0,!=1.25.1,<1.26,>=1.21.1 in /usr/local/lib/python3.7/dist-packages (from requests<3.0.0,>=2.13.0->spacy<3.3.0,>=3.2.0->en-core-web-sm==3.2.0) (1.24.3)\n",
            "Requirement already satisfied: certifi>=2017.4.17 in /usr/local/lib/python3.7/dist-packages (from requests<3.0.0,>=2.13.0->spacy<3.3.0,>=3.2.0->en-core-web-sm==3.2.0) (2021.10.8)\n",
            "Requirement already satisfied: chardet<4,>=3.0.2 in /usr/local/lib/python3.7/dist-packages (from requests<3.0.0,>=2.13.0->spacy<3.3.0,>=3.2.0->en-core-web-sm==3.2.0) (3.0.4)\n",
            "Requirement already satisfied: click<9.0.0,>=7.1.1 in /usr/local/lib/python3.7/dist-packages (from typer<0.5.0,>=0.3.0->spacy<3.3.0,>=3.2.0->en-core-web-sm==3.2.0) (7.1.2)\n",
            "Requirement already satisfied: MarkupSafe>=0.23 in /usr/local/lib/python3.7/dist-packages (from jinja2->spacy<3.3.0,>=3.2.0->en-core-web-sm==3.2.0) (2.0.1)\n",
            "\u001b[38;5;2m✔ Download and installation successful\u001b[0m\n",
            "You can now load the package via spacy.load('en_core_web_sm')\n"
          ]
        }
      ]
    },
    {
      "cell_type": "code",
      "source": [
        "doc=nlp(text)"
      ],
      "metadata": {
        "id": "85vl1XuhnEEE"
      },
      "execution_count": null,
      "outputs": []
    },
    {
      "cell_type": "code",
      "source": [
        "tokens=[token.text for token in doc]\n",
        "print(tokens)"
      ],
      "metadata": {
        "colab": {
          "base_uri": "https://localhost:8080/"
        },
        "id": "U-svVugznEHN",
        "outputId": "2ebe3ce0-a4f7-467a-af47-8c0e8b64725e"
      },
      "execution_count": null,
      "outputs": [
        {
          "output_type": "stream",
          "name": "stdout",
          "text": [
            "['\\n', 'Paragraphs', 'are', 'the', 'building', 'blocks', 'of', 'papers', '.', 'Many', 'students', 'define', 'paragraphs', 'in', 'terms', 'of', 'length', ':', 'a', 'paragraph', 'is', 'a', 'group', 'of', 'at', 'least', 'five', 'sentences', ',', '\\n', 'a', 'paragraph', 'is', 'half', 'a', 'page', 'long', ',', 'etc', '.', 'In', 'reality', ',', 'though', ',', 'the', 'unity', 'and', 'coherence', 'of', 'ideas', 'among', 'sentences', 'is', 'what', 'constitutes', 'a', 'paragraph', '.', '\\n', 'A', 'paragraph', 'is', 'defined', 'as', '“', 'a', 'group', 'of', 'sentences', 'or', 'a', 'single', 'sentence', 'that', 'forms', 'a', 'unit', '”', '(', 'Lunsford', 'and', 'Connors', '116', ')', '.', '\\n', 'Length', 'and', 'appearance', 'do', 'not', 'determine', 'whether', 'a', 'section', 'in', 'a', 'paper', 'is', 'a', 'paragraph', '.', '\\n', 'For', 'instance', ',', 'in', 'some', 'styles', 'of', 'writing', ',', 'particularly', 'journalistic', 'styles', ',', 'a', 'paragraph', 'can', 'be', 'just', 'one', 'sentence', 'long', '.', '\\n', 'Ultimately', ',', 'a', 'paragraph', 'is', 'a', 'sentence', 'or', 'group', 'of', 'sentences', 'that', 'support', 'one', 'main', 'idea', '.', 'In', 'this', 'handout', ',', '\\n', 'we', 'will', 'refer', 'to', 'this', 'as', 'the', '“', 'controlling', 'idea', ',', '”', 'because', 'it', 'controls', 'what', 'happens', 'in', 'the', 'rest', 'of', 'the', 'paragraph', '.', '\\n\\n', 'Continue', 'the', 'pattern', 'of', 'giving', 'examples', 'and', 'explaining', 'them', 'until', 'all', 'points', '/', 'examples', 'that', 'the', 'writer', 'deems', 'necessary', 'have', 'been', 'made', 'and', 'explained', '.', '\\n ', 'NONE', 'of', 'your', 'examples', 'should', 'be', 'left', 'unexplained', '.', '\\n ', 'You', 'might', 'be', 'able', 'to', 'explain', 'the', 'relationship', 'between', 'the', 'example', 'and', 'the', 'topic', 'sentence', 'in', 'the', 'same', 'sentence', 'which', 'introduced', 'the', 'example', '.', 'More', 'often', ',', 'however', ',', 'you', 'will', 'need', 'to', 'explain', 'that', 'relationship', 'in', 'a', 'separate', 'sentence', '.', '\\n \\n', 'Paragraph', 'development', 'begins', 'with', 'the', 'formulation', 'of', 'the', 'controlling', 'idea', '.', 'This', 'idea', 'directs', 'the', 'paragraph', '’s', 'development', '.', '\\n', 'Often', ',', 'the', 'controlling', 'idea', 'of', 'a', 'paragraph', 'will', 'appear', 'in', 'the', 'form', 'of', 'a', 'topic', 'sentence', '.', 'In', 'some', 'cases', ',', 'you', 'may', 'need', 'more', 'than', 'one', 'sentence', 'to', 'express', 'a', 'paragraph', '’s', 'controlling', 'idea', '.', '\\n ']\n"
          ]
        }
      ]
    },
    {
      "cell_type": "code",
      "source": [
        "punctuation"
      ],
      "metadata": {
        "colab": {
          "base_uri": "https://localhost:8080/",
          "height": 35
        },
        "id": "ZIQ4UACZrGw5",
        "outputId": "3d93f12f-8294-4c6e-f419-f683223bd1cf"
      },
      "execution_count": null,
      "outputs": [
        {
          "output_type": "execute_result",
          "data": {
            "application/vnd.google.colaboratory.intrinsic+json": {
              "type": "string"
            },
            "text/plain": [
              "'!\"#$%&\\'()*+,-./:;<=>?@[\\\\]^_`{|}~'"
            ]
          },
          "metadata": {},
          "execution_count": 28
        }
      ]
    },
    {
      "cell_type": "code",
      "source": [
        "punctuation=punctuation+\"\\n\"\n",
        "punctuation"
      ],
      "metadata": {
        "colab": {
          "base_uri": "https://localhost:8080/",
          "height": 35
        },
        "id": "7HdUHhldrG0-",
        "outputId": "60e08e4e-7a28-4861-fc4f-0cd1c9b00cbb"
      },
      "execution_count": null,
      "outputs": [
        {
          "output_type": "execute_result",
          "data": {
            "application/vnd.google.colaboratory.intrinsic+json": {
              "type": "string"
            },
            "text/plain": [
              "'!\"#$%&\\'()*+,-./:;<=>?@[\\\\]^_`{|}~\\n'"
            ]
          },
          "metadata": {},
          "execution_count": 29
        }
      ]
    },
    {
      "cell_type": "code",
      "source": [
        "word_frequencies={}\n",
        "for word in doc:\n",
        "  if word.text.lower() not in stopwords:\n",
        "    if word.text.lower() not in punctuation:\n",
        "      if word.text not in word_frequencies.keys():\n",
        "        word_frequencies[word.text]=1\n",
        "      else:\n",
        "        word_frequencies[word.text]+=1"
      ],
      "metadata": {
        "id": "_WTVbmVnrG49"
      },
      "execution_count": null,
      "outputs": []
    },
    {
      "cell_type": "code",
      "source": [
        "word_frequencies"
      ],
      "metadata": {
        "colab": {
          "base_uri": "https://localhost:8080/"
        },
        "id": "rqu_AYKOrG82",
        "outputId": "4152588c-72ad-4eaa-a2ad-7f4ba8d30ec3"
      },
      "execution_count": null,
      "outputs": [
        {
          "output_type": "execute_result",
          "data": {
            "text/plain": [
              "{'\\n\\n': 1,\n",
              " '\\n ': 3,\n",
              " '\\n \\n': 1,\n",
              " '116': 1,\n",
              " 'Connors': 1,\n",
              " 'Continue': 1,\n",
              " 'Length': 1,\n",
              " 'Lunsford': 1,\n",
              " 'Paragraph': 1,\n",
              " 'Paragraphs': 1,\n",
              " 'Ultimately': 1,\n",
              " 'able': 1,\n",
              " 'appear': 1,\n",
              " 'appearance': 1,\n",
              " 'begins': 1,\n",
              " 'blocks': 1,\n",
              " 'building': 1,\n",
              " 'cases': 1,\n",
              " 'coherence': 1,\n",
              " 'constitutes': 1,\n",
              " 'controlling': 4,\n",
              " 'controls': 1,\n",
              " 'deems': 1,\n",
              " 'define': 1,\n",
              " 'defined': 1,\n",
              " 'determine': 1,\n",
              " 'development': 2,\n",
              " 'directs': 1,\n",
              " 'etc': 1,\n",
              " 'example': 2,\n",
              " 'examples': 3,\n",
              " 'explain': 2,\n",
              " 'explained': 1,\n",
              " 'explaining': 1,\n",
              " 'express': 1,\n",
              " 'form': 1,\n",
              " 'forms': 1,\n",
              " 'formulation': 1,\n",
              " 'giving': 1,\n",
              " 'group': 3,\n",
              " 'half': 1,\n",
              " 'handout': 1,\n",
              " 'happens': 1,\n",
              " 'idea': 6,\n",
              " 'ideas': 1,\n",
              " 'instance': 1,\n",
              " 'introduced': 1,\n",
              " 'journalistic': 1,\n",
              " 'left': 1,\n",
              " 'length': 1,\n",
              " 'long': 2,\n",
              " 'main': 1,\n",
              " 'necessary': 1,\n",
              " 'need': 2,\n",
              " 'page': 1,\n",
              " 'paper': 1,\n",
              " 'papers': 1,\n",
              " 'paragraph': 11,\n",
              " 'paragraphs': 1,\n",
              " 'particularly': 1,\n",
              " 'pattern': 1,\n",
              " 'points': 1,\n",
              " 'reality': 1,\n",
              " 'refer': 1,\n",
              " 'relationship': 2,\n",
              " 'rest': 1,\n",
              " 'section': 1,\n",
              " 'sentence': 8,\n",
              " 'sentences': 4,\n",
              " 'separate': 1,\n",
              " 'single': 1,\n",
              " 'students': 1,\n",
              " 'styles': 2,\n",
              " 'support': 1,\n",
              " 'terms': 1,\n",
              " 'topic': 2,\n",
              " 'unexplained': 1,\n",
              " 'unit': 1,\n",
              " 'unity': 1,\n",
              " 'writer': 1,\n",
              " 'writing': 1,\n",
              " '“': 2,\n",
              " '”': 2}"
            ]
          },
          "metadata": {},
          "execution_count": 31
        }
      ]
    },
    {
      "cell_type": "code",
      "source": [
        "max_frequency=max(word_frequencies.values())\n",
        "max_frequency"
      ],
      "metadata": {
        "colab": {
          "base_uri": "https://localhost:8080/"
        },
        "id": "x2sXKJmBrHAO",
        "outputId": "f030a61e-16cc-4528-97e2-c3326dc302e9"
      },
      "execution_count": null,
      "outputs": [
        {
          "output_type": "execute_result",
          "data": {
            "text/plain": [
              "11"
            ]
          },
          "metadata": {},
          "execution_count": 32
        }
      ]
    },
    {
      "cell_type": "code",
      "source": [
        "for word in word_frequencies:\n",
        "  word_frequencies[word]=word_frequencies[word]/max_frequency"
      ],
      "metadata": {
        "id": "3c25H9yTtzDX"
      },
      "execution_count": null,
      "outputs": []
    },
    {
      "cell_type": "code",
      "source": [
        "print(word_frequencies)"
      ],
      "metadata": {
        "colab": {
          "base_uri": "https://localhost:8080/"
        },
        "id": "PUFIPGvTtzG7",
        "outputId": "903790b5-aa46-4d1e-eab9-e3cc4073552a"
      },
      "execution_count": null,
      "outputs": [
        {
          "output_type": "stream",
          "name": "stdout",
          "text": [
            "{'Paragraphs': 0.09090909090909091, 'building': 0.09090909090909091, 'blocks': 0.09090909090909091, 'papers': 0.09090909090909091, 'students': 0.09090909090909091, 'define': 0.09090909090909091, 'paragraphs': 0.09090909090909091, 'terms': 0.09090909090909091, 'length': 0.09090909090909091, 'paragraph': 1.0, 'group': 0.2727272727272727, 'sentences': 0.36363636363636365, 'half': 0.09090909090909091, 'page': 0.09090909090909091, 'long': 0.18181818181818182, 'etc': 0.09090909090909091, 'reality': 0.09090909090909091, 'unity': 0.09090909090909091, 'coherence': 0.09090909090909091, 'ideas': 0.09090909090909091, 'constitutes': 0.09090909090909091, 'defined': 0.09090909090909091, '“': 0.18181818181818182, 'single': 0.09090909090909091, 'sentence': 0.7272727272727273, 'forms': 0.09090909090909091, 'unit': 0.09090909090909091, '”': 0.18181818181818182, 'Lunsford': 0.09090909090909091, 'Connors': 0.09090909090909091, '116': 0.09090909090909091, 'Length': 0.09090909090909091, 'appearance': 0.09090909090909091, 'determine': 0.09090909090909091, 'section': 0.09090909090909091, 'paper': 0.09090909090909091, 'instance': 0.09090909090909091, 'styles': 0.18181818181818182, 'writing': 0.09090909090909091, 'particularly': 0.09090909090909091, 'journalistic': 0.09090909090909091, 'Ultimately': 0.09090909090909091, 'support': 0.09090909090909091, 'main': 0.09090909090909091, 'idea': 0.5454545454545454, 'handout': 0.09090909090909091, 'refer': 0.09090909090909091, 'controlling': 0.36363636363636365, 'controls': 0.09090909090909091, 'happens': 0.09090909090909091, 'rest': 0.09090909090909091, '\\n\\n': 0.09090909090909091, 'Continue': 0.09090909090909091, 'pattern': 0.09090909090909091, 'giving': 0.09090909090909091, 'examples': 0.2727272727272727, 'explaining': 0.09090909090909091, 'points': 0.09090909090909091, 'writer': 0.09090909090909091, 'deems': 0.09090909090909091, 'necessary': 0.09090909090909091, 'explained': 0.09090909090909091, '\\n ': 0.2727272727272727, 'left': 0.09090909090909091, 'unexplained': 0.09090909090909091, 'able': 0.09090909090909091, 'explain': 0.18181818181818182, 'relationship': 0.18181818181818182, 'example': 0.18181818181818182, 'topic': 0.18181818181818182, 'introduced': 0.09090909090909091, 'need': 0.18181818181818182, 'separate': 0.09090909090909091, '\\n \\n': 0.09090909090909091, 'Paragraph': 0.09090909090909091, 'development': 0.18181818181818182, 'begins': 0.09090909090909091, 'formulation': 0.09090909090909091, 'directs': 0.09090909090909091, 'appear': 0.09090909090909091, 'form': 0.09090909090909091, 'cases': 0.09090909090909091, 'express': 0.09090909090909091}\n"
          ]
        }
      ]
    },
    {
      "cell_type": "code",
      "source": [
        "sentance_token=[sent for sent in doc.sents]\n",
        "print(sentance_token)"
      ],
      "metadata": {
        "colab": {
          "base_uri": "https://localhost:8080/"
        },
        "id": "4hVeCkmGtzJ0",
        "outputId": "cbc19efa-0237-4a76-8603-b3d8dc03e9b7"
      },
      "execution_count": null,
      "outputs": [
        {
          "output_type": "stream",
          "name": "stdout",
          "text": [
            "[\n",
            "Paragraphs are the building blocks of papers., Many students define paragraphs in terms of length: a paragraph is a group of at least five sentences, \n",
            "a paragraph is half a page long, etc., In reality, though, the unity and coherence of ideas among sentences is what constitutes a paragraph., \n",
            "A paragraph is defined as “a group of sentences or a single sentence that forms a unit” (Lunsford and Connors 116)., \n",
            "Length and appearance do not determine whether a section in a paper is a paragraph., \n",
            "For instance, in some styles of writing, particularly journalistic styles, a paragraph can be just one sentence long., \n",
            "Ultimately, a paragraph is a sentence or group of sentences that support one main idea., In this handout,\n",
            "we will refer to this as the “controlling idea,” because it controls what happens in the rest of the paragraph., \n",
            "\n",
            "Continue the pattern of giving examples and explaining them until all points/examples that the writer deems necessary have been made and explained., \n",
            " NONE of your examples should be left unexplained., \n",
            " You might be able to explain the relationship between the example and the topic sentence in the same sentence which introduced the example., More often, however, you will need to explain that relationship in a separate sentence., \n",
            " \n",
            "Paragraph development begins with the formulation of the controlling idea., This idea directs the paragraph’s development., \n",
            "Often, the controlling idea of a paragraph will appear in the form of a topic sentence., In some cases, you may need more than one sentence to express a paragraph’s controlling idea., \n",
            " ]\n"
          ]
        }
      ]
    },
    {
      "cell_type": "code",
      "source": [
        "sentance_socre={}\n",
        "for sent in sentance_token:\n",
        "  for word in sent:\n",
        "    if word.text.lower() in word_frequencies.keys():\n",
        "      if sent not in sentance_socre.keys():\n",
        "        sentance_socre[sent]=word_frequencies[word.text.lower()]\n",
        "      else:\n",
        "         sentance_socre[sent]=word_frequencies[word.text.lower()]\n"
      ],
      "metadata": {
        "id": "yCBzXwKGtzMz"
      },
      "execution_count": null,
      "outputs": []
    },
    {
      "cell_type": "code",
      "source": [
        "print(sentance_socre)"
      ],
      "metadata": {
        "id": "vNNH8a0OtzPK",
        "colab": {
          "base_uri": "https://localhost:8080/"
        },
        "outputId": "2ae23067-5b66-4a82-f336-b8e5b716f755"
      },
      "execution_count": null,
      "outputs": [
        {
          "output_type": "stream",
          "name": "stdout",
          "text": [
            "{\n",
            "Paragraphs are the building blocks of papers.: 0.09090909090909091, Many students define paragraphs in terms of length: a paragraph is a group of at least five sentences, \n",
            "a paragraph is half a page long, etc.: 0.09090909090909091, In reality, though, the unity and coherence of ideas among sentences is what constitutes a paragraph.: 1.0, \n",
            "A paragraph is defined as “a group of sentences or a single sentence that forms a unit” (Lunsford and Connors 116).: 0.09090909090909091, \n",
            "Length and appearance do not determine whether a section in a paper is a paragraph.: 1.0, \n",
            "For instance, in some styles of writing, particularly journalistic styles, a paragraph can be just one sentence long.: 0.18181818181818182, \n",
            "Ultimately, a paragraph is a sentence or group of sentences that support one main idea.: 0.5454545454545454, In this handout,\n",
            "we will refer to this as the “controlling idea,” because it controls what happens in the rest of the paragraph.: 1.0, \n",
            "\n",
            "Continue the pattern of giving examples and explaining them until all points/examples that the writer deems necessary have been made and explained.: 0.09090909090909091, \n",
            " NONE of your examples should be left unexplained.: 0.09090909090909091, \n",
            " You might be able to explain the relationship between the example and the topic sentence in the same sentence which introduced the example.: 0.18181818181818182, More often, however, you will need to explain that relationship in a separate sentence.: 0.7272727272727273, \n",
            " \n",
            "Paragraph development begins with the formulation of the controlling idea.: 0.5454545454545454, This idea directs the paragraph’s development.: 0.18181818181818182, \n",
            "Often, the controlling idea of a paragraph will appear in the form of a topic sentence.: 0.7272727272727273, In some cases, you may need more than one sentence to express a paragraph’s controlling idea.: 0.5454545454545454, \n",
            " : 0.2727272727272727}\n"
          ]
        }
      ]
    },
    {
      "cell_type": "code",
      "source": [
        "from heapq import nlargest\n",
        "\n",
        "select_length=int(len(sentance_token)*0.3)\n",
        "print(select_length)"
      ],
      "metadata": {
        "colab": {
          "base_uri": "https://localhost:8080/"
        },
        "id": "zOxIsPUiVfMh",
        "outputId": "db102ec6-9b89-4433-b0b2-be080ad92129"
      },
      "execution_count": null,
      "outputs": [
        {
          "output_type": "stream",
          "name": "stdout",
          "text": [
            "5\n"
          ]
        }
      ]
    },
    {
      "cell_type": "code",
      "source": [
        "summary=nlargest(select_length,sentance_socre,key=sentance_socre.get)"
      ],
      "metadata": {
        "id": "EsPRXKkyVfP5"
      },
      "execution_count": null,
      "outputs": []
    },
    {
      "cell_type": "code",
      "source": [
        "summary"
      ],
      "metadata": {
        "colab": {
          "base_uri": "https://localhost:8080/"
        },
        "id": "_uDGrwSCVfTL",
        "outputId": "e2a54875-9df4-41bb-baed-dcac6752764c"
      },
      "execution_count": null,
      "outputs": [
        {
          "output_type": "execute_result",
          "data": {
            "text/plain": [
              "[In reality, though, the unity and coherence of ideas among sentences is what constitutes a paragraph.,\n",
              " \n",
              " Length and appearance do not determine whether a section in a paper is a paragraph.,\n",
              " In this handout,\n",
              " we will refer to this as the “controlling idea,” because it controls what happens in the rest of the paragraph.,\n",
              " More often, however, you will need to explain that relationship in a separate sentence.,\n",
              " \n",
              " Often, the controlling idea of a paragraph will appear in the form of a topic sentence.]"
            ]
          },
          "metadata": {},
          "execution_count": 40
        }
      ]
    },
    {
      "cell_type": "code",
      "source": [
        ""
      ],
      "metadata": {
        "id": "CCxtN-d4VfWd"
      },
      "execution_count": null,
      "outputs": []
    }
  ]
}